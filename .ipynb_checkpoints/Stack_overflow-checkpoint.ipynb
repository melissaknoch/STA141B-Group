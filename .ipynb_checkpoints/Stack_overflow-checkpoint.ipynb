{
 "cells": [
  {
   "cell_type": "code",
   "execution_count": 2,
   "metadata": {},
   "outputs": [],
   "source": [
    "import pandas as pd\n",
    "import numpy as np\n",
    "import requests\n",
    "import requests_cache\n",
    "import time\n",
    "import lxml.html as lx\n",
    "import itertools\n",
    "import matplotlib.pyplot as plt \n",
    "import seaborn as sns\n",
    "\n",
    "%matplotlib inline"
   ]
  },
  {
   "cell_type": "code",
   "execution_count": 3,
   "metadata": {},
   "outputs": [
    {
     "name": "stderr",
     "output_type": "stream",
     "text": [
      "/Users/melissaknoch/anaconda3/lib/python3.7/site-packages/IPython/core/interactiveshell.py:3020: DtypeWarning: Columns (8,12,13,14,15,16,50,51,52,53,55,56,57,58,59,60,61,62,63,64,65,66,67,68,69,70,71,72,73,74,75,76,77,78,79,80,81,82,83,84,85,93,94,95,96,97,98,99,100,101,102,103,104,105,106,107,108,109,110,111,112,113,114,115,116,117,118,119,120,121,122,123,124,125,126,127,128) have mixed types. Specify dtype option on import or set low_memory=False.\n",
      "  interactivity=interactivity, compiler=compiler, result=result)\n"
     ]
    }
   ],
   "source": [
    "so = pd.read_csv('survey_results_public.csv')"
   ]
  },
  {
   "cell_type": "code",
   "execution_count": 4,
   "metadata": {},
   "outputs": [],
   "source": [
    "bad_cols = ['Respondent', 'Hobby', 'AssessJob1', 'AssessJob2', 'AssessJob3', 'AssessJob4', 'AssessJob5', 'AssessJob6', 'AssessJob7',\n",
    "           'AssessJob8', 'AssessJob9', 'AssessJob10', 'AssessBenefits1', 'AssessBenefits2', 'AssessBenefits3',\n",
    "           'AssessBenefits4', 'AssessBenefits5', 'AssessBenefits6', 'AssessBenefits7', 'AssessBenefits8',\n",
    "           'AssessBenefits9', 'AssessBenefits10', 'AssessBenefits11', 'JobContactPriorities1', 'JobContactPriorities2',\n",
    "           'JobContactPriorities3', 'JobContactPriorities4', 'JobContactPriorities5', 'JobEmailPriorities1',\n",
    "            'JobEmailPriorities2', 'JobEmailPriorities3', 'JobEmailPriorities4', 'JobEmailPriorities5', \n",
    "            'JobEmailPriorities6', 'JobEmailPriorities7', 'UpdateCV', 'AgreeDisagree1', 'AgreeDisagree2', \n",
    "            'AgreeDisagree3', 'AdBlocker', 'AdBlockerDisable', 'AdBlockerReasons', 'AdsAgreeDisagree1', \n",
    "            'AdsAgreeDisagree2', 'AdsAgreeDisagree3', 'AdsActions', 'AdsPriorities1', 'AdsPriorities2', \n",
    "            'AdsPriorities3', 'AdsPriorities4', 'AdsPriorities5', 'AdsPriorities6', 'AdsPriorities7', \n",
    "            'StackOverflowRecommend', 'StackOverflowVisit', 'StackOverflowHasAccount', 'StackOverflowParticipate',\n",
    "            'StackOverflowDevStory', 'StackOverflowJobs', 'StackOverflowJobsRecommend', 'StackOverflowConsiderMember', 'HypotheticalTools1',\n",
    "            'HypotheticalTools2', 'HypotheticalTools3', 'HypotheticalTools4', 'HypotheticalTools5', 'MilitaryUS', \n",
    "            'SurveyTooLong', 'SurveyEasy']"
   ]
  },
  {
   "cell_type": "code",
   "execution_count": 5,
   "metadata": {},
   "outputs": [],
   "source": [
    "so = so.drop(bad_cols, axis = 1)"
   ]
  },
  {
   "cell_type": "code",
   "execution_count": 45,
   "metadata": {},
   "outputs": [
    {
     "name": "stdout",
     "output_type": "stream",
     "text": [
      "0 OpenSource\n",
      "1 Country\n",
      "2 Student\n",
      "3 Employment\n",
      "4 FormalEducation\n",
      "5 UndergradMajor\n",
      "6 CompanySize\n",
      "7 DevType\n",
      "8 YearsCoding\n",
      "9 YearsCodingProf\n",
      "10 JobSatisfaction\n",
      "11 CareerSatisfaction\n",
      "12 HopeFiveYears\n",
      "13 JobSearchStatus\n",
      "14 LastNewJob\n",
      "15 Currency\n",
      "16 Salary\n",
      "17 SalaryType\n",
      "18 ConvertedSalary\n",
      "19 CurrencySymbol\n",
      "20 CommunicationTools\n",
      "21 TimeFullyProductive\n",
      "22 EducationTypes\n",
      "23 SelfTaughtTypes\n",
      "24 TimeAfterBootcamp\n",
      "25 HackathonReasons\n",
      "26 LanguageWorkedWith\n",
      "27 LanguageDesireNextYear\n",
      "28 DatabaseWorkedWith\n",
      "29 DatabaseDesireNextYear\n",
      "30 PlatformWorkedWith\n",
      "31 PlatformDesireNextYear\n",
      "32 FrameworkWorkedWith\n",
      "33 FrameworkDesireNextYear\n",
      "34 IDE\n",
      "35 OperatingSystem\n",
      "36 NumberMonitors\n",
      "37 Methodology\n",
      "38 VersionControl\n",
      "39 CheckInCode\n",
      "40 AIDangerous\n",
      "41 AIInteresting\n",
      "42 AIResponsible\n",
      "43 AIFuture\n",
      "44 EthicsChoice\n",
      "45 EthicsReport\n",
      "46 EthicsResponsible\n",
      "47 EthicalImplications\n",
      "48 WakeTime\n",
      "49 HoursComputer\n",
      "50 HoursOutside\n",
      "51 SkipMeals\n",
      "52 ErgonomicDevices\n",
      "53 Exercise\n",
      "54 Gender\n",
      "55 SexualOrientation\n",
      "56 EducationParents\n",
      "57 RaceEthnicity\n",
      "58 Age\n",
      "59 Dependents\n"
     ]
    }
   ],
   "source": [
    "for pos, value in enumerate(so.columns.values):\n",
    "    print(pos, value)"
   ]
  },
  {
   "cell_type": "code",
   "execution_count": 7,
   "metadata": {},
   "outputs": [],
   "source": [
    "so[\"Salary\"] = so['Salary'].str.replace(',', '')\n",
    "so['Salary'] = so['Salary'].astype(float)"
   ]
  },
  {
   "cell_type": "code",
   "execution_count": 8,
   "metadata": {},
   "outputs": [],
   "source": [
    "so.to_csv('so_2018.csv', index = False)"
   ]
  },
  {
   "cell_type": "markdown",
   "metadata": {},
   "source": [
    "# Questions:\n",
    "\n",
    "- Analyze industry data job postings (data analysts, data scientists, data engineers, etc…)\n",
    "\n",
    "- Identify the requirements (skills, experiences, education, etc…)\n",
    "\n",
    "- Identify salary ranges and benefits.\n",
    "\n",
    "- How does location and the geographic region influence the components we list above?\n",
    "\n",
    "- What kinds of software and technologies are workers in this field using?"
   ]
  },
  {
   "cell_type": "code",
   "execution_count": 12,
   "metadata": {},
   "outputs": [
    {
     "data": {
      "text/plain": [
       "array(['Employed part-time', 'Employed full-time',\n",
       "       'Independent contractor, freelancer, or self-employed',\n",
       "       'Not employed, and not looking for work',\n",
       "       'Not employed, but looking for work', nan, 'Retired'], dtype=object)"
      ]
     },
     "execution_count": 12,
     "metadata": {},
     "output_type": "execute_result"
    }
   ],
   "source": [
    "so['Employment'].unique()"
   ]
  },
  {
   "cell_type": "code",
   "execution_count": 13,
   "metadata": {
    "scrolled": true
   },
   "outputs": [
    {
     "data": {
      "text/plain": [
       "array(['Bachelor’s degree (BA, BS, B.Eng., etc.)', 'Associate degree',\n",
       "       'Some college/university study without earning a degree',\n",
       "       'Master’s degree (MA, MS, M.Eng., MBA, etc.)',\n",
       "       'Secondary school (e.g. American high school, German Realschule or Gymnasium, etc.)',\n",
       "       nan, 'Primary/elementary school',\n",
       "       'Professional degree (JD, MD, etc.)',\n",
       "       'I never completed any formal education',\n",
       "       'Other doctoral degree (Ph.D, Ed.D., etc.)'], dtype=object)"
      ]
     },
     "execution_count": 13,
     "metadata": {},
     "output_type": "execute_result"
    }
   ],
   "source": [
    "so['FormalEducation'].unique()"
   ]
  },
  {
   "cell_type": "code",
   "execution_count": 68,
   "metadata": {
    "scrolled": false
   },
   "outputs": [
    {
     "data": {
      "text/plain": [
       "<matplotlib.axes._subplots.AxesSubplot at 0x1a32862ef0>"
      ]
     },
     "execution_count": 68,
     "metadata": {},
     "output_type": "execute_result"
    },
    {
     "data": {
      "image/png": "[encoded data removed]",
      "text/plain": [
       "<Figure size 720x432 with 1 Axes>"
      ]
     },
     "metadata": {
      "needs_background": "light"
     },
     "output_type": "display_data"
    }
   ],
   "source": [
    "plt.figure(figsize = (10,6))\n",
    "sns.boxplot('ConvertedSalary', data = so, orient = 'v')"
   ]
  },
  {
   "cell_type": "code",
   "execution_count": null,
   "metadata": {},
   "outputs": [],
   "source": [
    "sns.barplot(x = 'FormalEducation', y = 'ConvertedSalary' data = so)"
   ]
  },
  {
   "cell_type": "code",
   "execution_count": null,
   "metadata": {},
   "outputs": [],
   "source": []
  }
 ],
 "metadata": {
  "kernelspec": {
   "display_name": "Python 3",
   "language": "python",
   "name": "python3"
  },
  "language_info": {
   "codemirror_mode": {
    "name": "ipython",
    "version": 3
   },
   "file_extension": ".py",
   "mimetype": "text/x-python",
   "name": "python",
   "nbconvert_exporter": "python",
   "pygments_lexer": "ipython3",
   "version": "3.7.1"
  }
 },
 "nbformat": 4,
 "nbformat_minor": 2
}
