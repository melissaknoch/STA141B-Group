{
 "cells": [
  {
   "cell_type": "code",
   "execution_count": 88,
   "metadata": {},
   "outputs": [],
   "source": [
    "import requests\n",
    "import requests_cache\n",
    "import lxml.html as lx\n",
    "import pandas as pd\n",
    "import numpy as np"
   ]
  },
  {
   "cell_type": "code",
   "execution_count": 87,
   "metadata": {},
   "outputs": [],
   "source": [
    "requests_cache.install_cache(\"medium\")"
   ]
  },
  {
   "cell_type": "code",
   "execution_count": 79,
   "metadata": {},
   "outputs": [],
   "source": [
    "import time\n",
    "\n",
    "from selenium import webdriver\n",
    "from selenium.webdriver.common.keys import Keys\n",
    "\n",
    "browser = webdriver.Chrome('/Users/melissaknoch/Desktop/STA141B-Group/chromedriver')\n",
    "\n",
    "browser.get(\"https://medium.com/search?q=data%20science\")\n",
    "time.sleep(1)\n",
    "\n",
    "elem = browser.find_element_by_tag_name(\"body\")\n",
    "\n",
    "no_of_pagedowns = 100\n",
    "\n",
    "while no_of_pagedowns:\n",
    "    elem.send_keys(Keys.PAGE_DOWN)\n",
    "    time.sleep(0.2)\n",
    "    no_of_pagedowns-=1\n",
    "    \n",
    "links = []\n",
    "\n",
    "elems = browser.find_elements_by_xpath('//div[contains(@class, \"postArticle-readMore\")]/a')\n",
    "for elem in elems:\n",
    "    links.append(elem.get_attribute(\"href\"))"
   ]
  },
  {
   "cell_type": "code",
   "execution_count": 82,
   "metadata": {},
   "outputs": [
    {
     "data": {
      "text/plain": [
       "['https://towardsdatascience.com/how-to-learn-data-science-if-youre-broke-7ecc408b53c7?source=search_post---------0',\n",
       " 'https://medium.freecodecamp.org/if-you-want-to-learn-data-science-start-with-one-of-these-programming-classes-fb694ffe780c?source=search_post---------1',\n",
       " 'https://medium.freecodecamp.org/i-ranked-all-the-best-data-science-intro-courses-based-on-thousands-of-data-points-db5dc7e3eb8e?source=search_post---------2',\n",
       " 'https://towardsdatascience.com/data-science-and-machine-learning-interview-questions-3f6207cf040b?source=search_post---------3',\n",
       " 'https://towardsdatascience.com/how-to-build-a-data-science-portfolio-5f566517c79c?source=search_post---------4',\n",
       " 'https://medium.freecodecamp.org/the-best-data-science-courses-on-the-internet-ranked-by-your-reviews-6dc5b910ea40?source=search_post---------5',\n",
       " 'https://towardsdatascience.com/python-for-data-science-8-concepts-you-may-have-forgotten-i-did-825966908393?source=search_post---------6',\n",
       " 'https://medium.com/@davidventuri/i-dropped-out-of-school-to-create-my-own-data-science-master-s-here-s-my-curriculum-1b400dcee412?source=search_post---------7',\n",
       " 'https://medium.com/s/story/essential-math-for-data-science-why-and-how-e88271367fbd?source=search_post---------8',\n",
       " 'https://medium.com/civis-analytics/the-best-mario-kart-character-according-to-data-science-7dfb65d4c18e?source=search_post---------9',\n",
       " 'https://medium.freecodecamp.org/which-languages-should-you-learn-for-data-science-e806ba55a81f?source=search_post',\n",
       " 'https://towardsdatascience.com/data-science-for-startups-introduction-80d022a18aec?source=search_post',\n",
       " 'https://medium.freecodecamp.org/if-you-want-to-learn-data-science-take-a-few-of-these-statistics-classes-9bbabab098b9?source=search_post',\n",
       " 'https://towardsdatascience.com/why-you-shouldnt-be-a-data-science-generalist-f69ea37cdd2c?source=search_post',\n",
       " 'https://medium.com/@rchang/my-two-year-journey-as-a-data-scientist-at-twitter-f0c13298aee6?source=search_post',\n",
       " 'https://towardsdatascience.com/five-books-every-data-scientist-should-read-that-are-not-about-data-science-f7335fb1f84f?source=search_post',\n",
       " 'https://medium.com/activewizards-machine-learning-company/top-15-python-libraries-for-data-science-in-in-2017-ab61b4f9b4a7?source=search_post',\n",
       " 'https://towardsdatascience.com/how-it-feels-to-learn-data-science-in-2019-6ee688498029?source=search_post',\n",
       " 'https://towardsdatascience.com/bringing-the-best-out-of-jupyter-notebooks-for-data-science-f0871519ca29?source=search_post',\n",
       " 'https://towardsdatascience.com/beautiful-data-science-presentations-9e9d8fd91446?source=search_post',\n",
       " 'https://towardsdatascience.com/bayes-theorem-the-holy-grail-of-data-science-55d93315defb?source=search_post',\n",
       " 'https://towardsdatascience.com/data-science-skills-web-scraping-using-python-d1a85ef607ed?source=search_post',\n",
       " 'https://medium.freecodecamp.org/the-four-data-science-skills-i-didnt-learn-in-grad-school-and-how-to-learn-them-f2b039fc0f59?source=search_post',\n",
       " 'https://towardsdatascience.com/5-resources-to-inspire-your-next-data-science-project-ea6afbe20319?source=search_post',\n",
       " 'https://towardsdatascience.com/data-science-interview-guide-4ee9f5dc778?source=search_post',\n",
       " 'https://towardsdatascience.com/what-i-learned-from-writing-a-data-science-article-every-week-for-a-year-201c0357e0ce?source=search_post',\n",
       " 'https://towardsdatascience.com/data-science-project-flow-for-startups-282a93d4508d?source=search_post',\n",
       " 'https://towardsdatascience.com/the-ten-fallacies-of-data-science-9b2af78a1862?source=search_post',\n",
       " 'https://medium.com/analytics-vidhya/python-libraries-for-data-science-other-than-pandas-and-numpy-95da30568fad?source=search_post',\n",
       " 'https://blog.unchained-capital.com/bitcoin-data-science-pt-1-hodl-waves-7f3501d53f63?source=search_post',\n",
       " 'https://medium.com/@HelloAxiom88/an-uber-ride-killed-my-brother-now-i-am-going-to-help-them-fix-it-4971aba8fe00?source=search_post',\n",
       " 'https://medium.com/@datalab/how-to-break-into-the-data-science-market-f0e0b79b42f7?source=search_post',\n",
       " 'https://towardsdatascience.com/a-data-science-for-good-machine-learning-project-walk-through-in-python-part-one-1977dd701dbc?source=search_post',\n",
       " 'https://towardsdatascience.com/what-no-one-will-tell-you-about-data-science-job-applications-bff2d4b5e983?source=search_post',\n",
       " 'https://towardsdatascience.com/the-most-important-part-of-a-data-science-project-is-writing-a-blog-post-50715f37833a?source=search_post',\n",
       " 'https://towardsdatascience.com/data-science-for-startups-data-pipelines-786f6746a59a?source=search_post',\n",
       " 'https://towardsdatascience.com/my-journey-into-data-science-39e9bbbbf452?source=search_post',\n",
       " 'https://towardsdatascience.com/how-to-write-a-production-level-code-in-data-science-5d87bd75ced?source=search_post',\n",
       " 'https://towardsdatascience.com/wikipedia-data-science-working-with-the-worlds-largest-encyclopedia-c08efbac5f5c?source=search_post',\n",
       " 'https://towardsdatascience.com/use-kaggle-to-start-and-guide-your-ml-data-science-journey-f09154baba35?source=search_post',\n",
       " 'https://towardsdatascience.com/boost-your-data-sciences-skills-learn-linear-algebra-2c30fdd008cf?source=search_post',\n",
       " 'https://hackernoon.com/top-10-roles-for-your-data-science-team-e7f05d90d961?source=search_post',\n",
       " 'https://medium.com/swlh/the-7-best-data-science-and-machine-learning-podcasts-e8f0d5a4a419?source=search_post',\n",
       " 'https://towardsdatascience.com/what-getting-a-job-in-data-science-might-look-like-f94ddb788a5e?source=search_post',\n",
       " 'https://medium.freecodecamp.org/a-path-for-you-to-learn-analytics-and-data-skills-bd48ccde7325?source=search_post',\n",
       " 'https://medium.com/airbnb-engineering/how-airbnb-democratizes-data-science-with-data-university-3eccc71e073a?source=search_post',\n",
       " 'https://medium.freecodecamp.org/how-to-build-a-data-science-project-from-scratch-dc4f096a62a1?source=search_post',\n",
       " 'https://medium.com/netflix-techblog/studio-production-data-science-646ee2cc21a1?source=search_post',\n",
       " 'https://towardsdatascience.com/45-ways-to-activate-your-data-science-career-6a0d9c664e84?source=search_post',\n",
       " 'https://towardsdatascience.com/docker-for-data-science-4901f35d7cf9?source=search_post',\n",
       " 'https://medium.com/reputation-squad/semantics-what-does-data-science-reveal-about-clinton-and-trump-afdf427e833b?source=search_post',\n",
       " 'https://towardsdatascience.com/quick-dive-into-pandas-for-data-science-cc1c1a80d9c4?source=search_post',\n",
       " 'https://codeburst.io/jupyter-notebook-tricks-for-data-science-that-enhance-your-efficiency-95f98d3adee4?source=search_post',\n",
       " 'https://towardsdatascience.com/collecting-data-science-cheat-sheets-d2cdff092855?source=search_post',\n",
       " 'https://blog.usejournal.com/python-vs-and-r-for-data-science-833b48ccc91d?source=search_post',\n",
       " 'https://towardsdatascience.com/python-basics-for-data-science-6a6c987f2755?source=search_post',\n",
       " 'https://towardsdatascience.com/practical-advice-for-data-science-writing-cc842795ed52?source=search_post',\n",
       " 'https://becominghuman.ai/data-science-simplified-principles-and-process-b06304d63308?source=search_post',\n",
       " 'https://medium.com/startup-grind/the-10-best-ai-data-science-and-machine-learning-podcasts-d7495cfb127c?source=search_post',\n",
       " 'https://towardsdatascience.com/mastering-the-data-science-interview-15f9c0a558a7?source=search_post',\n",
       " 'https://towardsdatascience.com/how-to-ace-data-science-interviews-statistics-f3d363ad47b?source=search_post',\n",
       " 'https://hackernoon.com/learning-languages-very-quickly-with-the-help-of-some-very-basic-data-science-cdbf95288333?source=search_post',\n",
       " 'https://towardsdatascience.com/data-science-from-zero-to-kaggle-kernels-master-f9115eadbb3?source=search_post',\n",
       " 'https://towardsdatascience.com/a-beginners-guide-to-the-data-science-pipeline-a4904b2d8ad3?source=search_post',\n",
       " 'https://towardsdatascience.com/data-science-machine-learning-and-artificial-intelligence-for-art-1ac48c4fad41?source=search_post',\n",
       " 'https://towardsdatascience.com/how-to-out-compete-on-a-data-science-competition-insights-techniques-and-tactics-95a0545041d5?source=search_post',\n",
       " 'https://hackernoon.com/what-on-earth-is-data-science-eb1237d8cb37?source=search_post',\n",
       " 'https://towardsdatascience.com/interactive-data-science-with-jupyter-notebooks-457ab4928b08?source=search_post',\n",
       " 'https://medium.com/predict/five-interview-questions-to-predict-a-good-data-scientist-40d310cdcd68?source=search_post',\n",
       " 'https://towardsdatascience.com/a-non-technical-reading-list-for-data-science-d72451429a70?source=search_post',\n",
       " 'https://towardsdatascience.com/mathematics-for-data-science-e53939ee8306?source=search_post',\n",
       " 'https://towardsdatascience.com/how-to-data-science-without-a-degree-79d8388a49ba?source=search_post',\n",
       " 'https://towardsdatascience.com/10-data-science-tools-i-explored-in-2018-d8226f99f342?source=search_post',\n",
       " 'https://towardsdatascience.com/going-dutch-how-i-used-data-science-and-machine-learning-to-find-an-apartment-in-amsterdam-part-def30d6799e4?source=search_post',\n",
       " 'https://towardsdatascience.com/why-you-should-forget-for-loop-for-data-science-code-and-embrace-vectorization-696632622d5f?source=search_post',\n",
       " 'https://towardsdatascience.com/the-best-data-science-learning-resources-out-there-and-my-journey-into-data-science-81c5a6ec67bc?source=search_post',\n",
       " 'https://towardsdatascience.com/how-i-learned-data-science-the-hard-way-in-2018-6ae4aa21cd6?source=search_post',\n",
       " 'https://towardsdatascience.com/data-science-for-startups-r-python-2ca2cd149c5c?source=search_post',\n",
       " 'https://towardsdatascience.com/data-science-leaders-there-are-too-many-of-you-37bff8088505?source=search_post',\n",
       " 'https://towardsdatascience.com/google-colaboratory-simplifying-data-science-workflow-c70059386323?source=search_post',\n",
       " 'https://towardsdatascience.com/how-to-ace-data-science-interviews-sql-b71de212e433?source=search_post',\n",
       " 'https://towardsdatascience.com/how-to-choose-effective-moocs-for-machine-learning-and-data-science-8681700ed83f?source=search_post',\n",
       " 'https://towardsdatascience.com/introduction-to-statistics-e9d72d818745?source=search_post',\n",
       " 'https://medium.springboard.com/the-data-science-process-the-complete-laymans-guide-to-what-a-data-scientist-actually-does-ca3e166b7c67?source=search_post',\n",
       " 'https://towardsdatascience.com/a-data-science-workflow-26c3f05a010e?source=search_post',\n",
       " 'https://towardsdatascience.com/data-science-with-python-turn-your-conditional-loops-to-numpy-vectors-9484ff9c622e?source=search_post',\n",
       " 'https://medium.com/@lynn_72328/data-visualization-versus-ui-and-data-science-d59182d58af4?source=search_post',\n",
       " 'https://towardsdatascience.com/the-data-science-gap-5cc4e0d19ee3?source=search_post',\n",
       " 'https://medium.com/@skyetetra/so-your-data-science-project-isnt-working-7bf57e3f12f1?source=search_post',\n",
       " 'https://hackernoon.com/introduction-to-numpy-1-an-absolute-beginners-guide-to-machine-learning-and-data-science-5d87f13f0d51?source=search_post',\n",
       " 'https://heartbeat.fritz.ai/top-7-libraries-and-packages-of-the-year-for-data-science-and-ai-python-r-6b7cca2bf000?source=search_post',\n",
       " 'https://towardsdatascience.com/4-years-of-data-science-at-schibsted-media-group-abba83854509?source=search_post',\n",
       " 'https://medium.com/personal-growth/learn-to-code-with-these-top-rated-programming-courses-8ed9c7ba8cfe?source=search_post',\n",
       " 'https://medium.com/airbnb-engineering/using-r-packages-and-education-to-scale-data-science-at-airbnb-906faa58e12d?source=search_post',\n",
       " 'https://hackernoon.com/fundamental-python-data-science-libraries-a-cheatsheet-part-2-4-fcf5fab9cdf1?source=search_post',\n",
       " 'https://towardsdatascience.com/how-to-ace-data-science-interviews-r-python-3a49982000de?source=search_post',\n",
       " 'https://medium.com/@dpatil/a-code-of-ethics-for-data-science-cda27d1fac1?source=search_post',\n",
       " 'https://medium.freecodecamp.org/data-science-with-python-8-ways-to-do-linear-regression-and-measure-their-speed-b5577d75f8b?source=search_post',\n",
       " 'https://towardsdatascience.com/quality-over-quantity-building-the-perfect-data-science-project-993ccc0b1241?source=search_post',\n",
       " 'https://towardsdatascience.com/guide-building-data-science-web-application-with-react-nodejs-and-mysql-1c55416ff0fb?source=search_post']"
      ]
     },
     "execution_count": 82,
     "metadata": {},
     "output_type": "execute_result"
    }
   ],
   "source": [
    "links"
   ]
  },
  {
   "cell_type": "code",
   "execution_count": 83,
   "metadata": {},
   "outputs": [
    {
     "data": {
      "text/plain": [
       "100"
      ]
     },
     "execution_count": 83,
     "metadata": {},
     "output_type": "execute_result"
    }
   ],
   "source": [
    "len(links)"
   ]
  },
  {
   "cell_type": "code",
   "execution_count": 85,
   "metadata": {},
   "outputs": [
    {
     "data": {
      "text/plain": [
       "'https://towardsdatascience.com/how-to-learn-data-science-if-youre-broke-7ecc408b53c7?source=search_post---------0'"
      ]
     },
     "execution_count": 85,
     "metadata": {},
     "output_type": "execute_result"
    }
   ],
   "source": [
    "test = links[0]\n",
    "test"
   ]
  },
  {
   "cell_type": "code",
   "execution_count": 110,
   "metadata": {},
   "outputs": [
    {
     "data": {
      "text/plain": [
       "<Element html at 0x1a1e3569f8>"
      ]
     },
     "execution_count": 110,
     "metadata": {},
     "output_type": "execute_result"
    }
   ],
   "source": [
    "\n",
    "response = requests.get(test)\n",
    "response.raise_for_status()\n",
    "html = lx.fromstring(response.text)\n",
    "html"
   ]
  },
  {
   "cell_type": "code",
   "execution_count": 114,
   "metadata": {},
   "outputs": [
    {
     "data": {
      "text/plain": [
       "['A year ago, I was a numbers geek with no coding background. After trying an online programming course, I was so inspired that I enrolled in one of the best computer science programs in Canada.',\n",
       " 'Two weeks later, I realized that I could learn everything I needed through edX, Coursera, and Udacity instead. So I dropped out.',\n",
       " 'The decision was not difficult. I could learn the content I wanted to faster, more efficiently, and for a fraction of the cost.',\n",
       " 'I already had a university degree and, perhaps more importantly, I already had the university experience. Paying $30K+ to go back to school seemed irresponsible.',\n",
       " 'I started creating my own data science master’s degree using online courses shortly afterwards, after realizing it was a better fit for me than computer science. I scoured the introduction to programming landscape. I’ve already taken several courses and audited portions of many others. I know the options, and what skills are needed if you’re targeting a data analyst or data scientist role.',\n",
       " 'For this guide, I spent 20+ hours trying to find every single online introduction to programming course offered as of August 2016, extracting key bits of information from their syllabi and reviews, and compiling their ratings. For this task, I turned to none other than the open source Class Central community and its database of thousands of course ratings and reviews.',\n",
       " 'Since 2011, Class Central founder Dhawal Shah has kept a closer eye on online courses than arguably anyone else in the world. Dhawal personally helped me assemble this list of resources.',\n",
       " 'Each course had to fit four criteria:',\n",
       " 'We believe we covered every notable course that exists and which fits the above criteria. Since there are seemingly hundreds of courses on Udemy in Python and R, we chose to consider the most reviewed and highest rated ones only. There is a chance we missed something, however. Please let us know if you think that is the case.',\n",
       " 'We compiled average rating and number of reviews from Class Central and other review sites. We calculated a weighted average rating for each course. If a series had multiple courses (like Rice University’s Part 1 and Part 2), we calculated the weighted average rating across all courses. We also read text reviews and used this feedback to supplement the numerical ratings.',\n",
       " 'We made subjective syllabus judgment calls based on three factors:',\n",
       " 'Programming is not computer science and vice versa. There is a difference of which beginners may not be acutely aware. Borrowing this answer from Programmers Stack Exchange:',\n",
       " 'The course we are looking for introduces programming and optionally touches on relevant aspects of computer science that would benefit a new programmer in terms of awareness. Many of the courses considered, you’ll notice, do indeed have a computer science portion.',\n",
       " 'None of the courses, however, are strictly computer science courses, which is why something like Harvard’s CS50x on edX is excluded.',\n",
       " 'University of Toronto’s “Learn to Program” series on Coursera. LTP1: The Fundamentals and LTP2: Crafting Quality Code have a near-perfect weighted average rating of 4.71 out of 5 stars over 284 reviews. They also have a great mix of content difficulty and scope for the beginner data scientist.',\n",
       " 'This free, Python-based introduction to programming sets itself apart from the other 20+ courses we considered.',\n",
       " 'Jennifer Campbell and Paul Gries, two associate professors in the University of Toronto’s department of computer science (which is regarded as one of the best in the world) teach the series. The self-paced, self-contained Coursera courses match the material in their book, “Practical Programming: An Introduction to Computer Science Using Python 3.” LTP1 covers 40–50% of the book and LTP2 covers another 40%. The 10–20% not covered is not particularly useful for data science, which helped their case for being our pick.',\n",
       " 'The professors kindly and promptly sent me detailed course syllabi upon request, which were difficult to find online prior to the course’s official restart in September 2016.',\n",
       " 'Learn to Program: The Fundamentals (LTP1)',\n",
       " 'Timeline: 7 weeks',\n",
       " 'Estimated time commitment: 6–8 hours per week',\n",
       " 'This course provides an introduction to computer programming intended for people with no programming experience. It covers the basics of programming in Python including elementary data types (numeric types, strings, lists, dictionaries, and files), control flow, functions, objects, methods, fields, and mutability.',\n",
       " 'Modules',\n",
       " 'Learn to Program: Crafting Quality Code (LTP2)',\n",
       " 'Timeline: 5 weeks',\n",
       " 'Estimated time commitment: 6–8 hours per week',\n",
       " 'You know the basics of programming in Python: elementary data types (numeric types, strings, lists, dictionaries, and files), control flow, functions, objects, methods, fields, and mutability. You need to be good at these in order to succeed in this course.',\n",
       " 'LTP: Crafting Quality Code covers the next steps: designing larger programs, testing your code so that you know it works, reading code in order to understand how efficient it is, and creating your own types.',\n",
       " 'Modules',\n",
       " 'Associate professor Gries also provided the following commentary on the course structure: “Each module has between about 45 minutes to a bit more than an hour of video. There are in-video quiz questions, which will bring the total time spent studying the videos to perhaps 2 hours.”',\n",
       " 'These videos are generally shorter than ten minutes each.',\n",
       " 'He continued: “In addition, we have one exercise (a dozen or two or so multiple choice and short-answer questions) per module, which should take an hour or two. There are three programming assignments in LTP1, each of which might take four to eight hours of work. There are two programming assignments in LTP2 of similar size.”',\n",
       " 'He emphasized that the estimate of 6–8 hours per week is a rough guess: “Estimating time spent is incredibly student-dependent, so please take my estimates in that context. For example, someone who knows a bit of programming, perhaps in another programming language, might take half the time of someone completely new to programming. Sometimes someone will get stuck on a concept for a couple of hours, while they might breeze through on other concepts\\xa0… That’s one of the reasons the self-paced format is so appealing to us.”',\n",
       " 'In total, the University of Toronto’s Learn to Program series runs an estimated 12 weeks at 6–8 hours per week, which is about standard for most online courses created by universities. If you prefer to binge-study your MOOCs, that’s 72–96 hours, which could feasibly be completed in two to three weeks, especially if you have a bit of programming experience.',\n",
       " 'If you already have some familiarity with programming, and don’t mind a syllabus that has a notable skew towards games and interactive applications, I would also recommend Rice University’s An Introduction to Interactive Programming in Python (Part 1 and Part 2) on Coursera.',\n",
       " 'With 6,000+ reviews and the highest weighted average rating of 4.93/5 stars, this popular course is noted for its engaging videos, challenging quizzes, and enjoyable mini projects. It’s slightly more difficult, and focuses less on the fundamentals and more on topics that aren’t applicable in data science than our #1 pick.',\n",
       " 'These courses are also part of the 7 course Principles in Computing Specialization on Coursera.',\n",
       " 'The materials are self-paced and free, and a paid certificate is available. The course must be purchased for $79 (USD) for access to graded materials.',\n",
       " 'The condensed course description and full syllabus are as follows:',\n",
       " '“This two-part course is designed to help students with very little or no computing background learn the basics of building simple interactive applications\\xa0… To make learning Python easy, we have developed a new browser-based programming environment that makes developing interactive applications in Python simple. These applications will involve windows whose contents are graphical and respond to buttons, the keyboard, and the mouse.',\n",
       " 'Recommended background: A knowledge of high school mathematics is required. While the class is designed for students with no prior programming experience, some beginning programmers have viewed the class as being fast-paced. For students interested in some light preparation prior to the start of class, we recommend a self-paced Python learning site such as codecademy.com.”',\n",
       " 'Timeline: 5 weeks',\n",
       " 'Estimated time commitment: 7–10 hours per week',\n",
       " 'Week 0\\u200a—\\u200astatements, expressions, variables \\xa0Understand the structure of this class, and explore Python as a calculator.',\n",
       " 'Week 1\\u200a—\\u200afunctions, logic, conditionals\\xa0Learn the basic constructs of Python programming, and create a program that plays a variant of Rock-Paper-Scissors.',\n",
       " 'Week 2\\u200a—\\u200aevent-driven programming, local/global variables\\xa0Learn the basics of event-driven programming, understand the difference between local and global variables, and create an interactive program that plays a simple guessing game.',\n",
       " 'Week 3\\u200a—\\u200acanvas, drawing, timers\\xa0Create a canvas in Python, learn how to draw on the canvas, and create a digital stopwatch.',\n",
       " 'Week 4\\u200a—\\u200alists, keyboard input, the basics of modeling motion\\xa0Learn the basics of lists in Python, model moving objects in Python, and recreate the classic arcade game “Pong.”',\n",
       " 'Week 5\\u200a—\\u200amouse input, list methods, dictionaries\\xa0Read mouse input, learn about list methods and dictionaries, and draw images.\\xa0Week 6\\u200a—\\u200aclasses and object-oriented programming\\xa0Learn the basics of object-oriented programming in Python using classes, and work with tiled images.',\n",
       " 'Week 7\\u200a—\\u200abasic game physics, sprites\\xa0Understand the math of acceleration and friction, work with sprites, and add sound to your game.',\n",
       " 'Week 8\\u200a—\\u200asets and animation\\xa0Learn about sets in Python, compute collisions between sprites, and animate sprites.',\n",
       " 'If you are set on an introduction to programming course in R, we recommend DataCamp’s series of R courses: Introduction to R, Intermediate R, Intermediate R\\u200a—\\u200aPractice, and Writing Functions in R. Though the latter three come at a price point of $25/month, DataCamp is best in category for covering the programming fundamentals and R-specific topics, which is reflected in its average rating of 4.29/5 stars.',\n",
       " 'We believe the best approach to learning programming for data science using online courses is to do it first through Python. Why? There is a lack of MOOC options that teach core programming principles and use R as the language of instruction. We found six such R courses that fit our testing criteria, compared to twenty-two Python-based courses. Most of the R courses didn’t receive great ratings and failed to meet most of our subjective testing criteria.',\n",
       " 'The series breakdown is as follows:',\n",
       " 'Estimated time commitment: 4 hours',\n",
       " 'Chapters:',\n",
       " 'Estimated time commitment: 6 hours',\n",
       " 'Chapters:',\n",
       " 'Estimated time commitment: 4 hours',\n",
       " 'This follow-up course on intermediate R does not cover new programming concepts. Instead, you will strengthen your knowledge of the topics in intermediate R with a bunch of new and fun exercises.',\n",
       " 'Estimated time commitment: 4 hours',\n",
       " 'Chapters:',\n",
       " 'Another option for R would be to take a Python-based introduction to programming course to cover the fundamentals of programming, and then pick up R syntax with an R basics course. This is what I did, but I did it with Udacity’s Data Analysis with R. It worked well for me.',\n",
       " 'You can also pick up R with our top recommendation for a statistics class, which teaches the basics of R through coding up stats problems.',\n",
       " 'Our #1 and #2 picks had a 4.71 and 4.93 star weighted average rating over 284 and 6,069 reviews, respectively. Let’s look at the other alternatives.',\n",
       " 'This is the first of a six-piece series that covers the best MOOCs for launching yourself into the data science field. It will cover several other data science core competencies: statistics, the data science process, data visualization, and machine learning.',\n",
       " 'The final piece will be a summary of those courses, and the best MOOCs for other key topics such as data wrangling, databases, and even software engineering.',\n",
       " 'If you’re looking for a complete list of Data Science MOOCs, you can find them on Class Central’s Data Science and Big Data subject page.',\n",
       " 'If you enjoyed reading this, check out some of Class Central’s other pieces:',\n",
       " 'If you have suggestions for courses I missed, let me know in the responses!',\n",
       " 'If you found this helpful, click the 💚 so more people will see it here on Medium.',\n",
       " 'This is a condensed version of the original article published on Class Central, where course descriptions, syllabi, and multiple reviews are included.']"
      ]
     },
     "execution_count": 114,
     "metadata": {},
     "output_type": "execute_result"
    }
   ],
   "source": [
    "[tag.text_content() for tag in html.xpath(\"//section[contains(@class, 'section--body')]//p\")]"
   ]
  },
  {
   "cell_type": "code",
   "execution_count": null,
   "metadata": {},
   "outputs": [],
   "source": [
    "def scrapeMediumArticle(url):\n",
    "    \n",
    "    response = requests.get(url)\n",
    "    response.raise_for_status()\n",
    "    html = lx.fromstring(response.text)\n",
    "    \n",
    "    post = {}\n",
    "    \n",
    "    title = html.xpath(\"//div[contains(@class, 'sectionLayout--insetColumn')]/h1\")[0].text_content()\n",
    "    post['title'] = title\n",
    "    "
   ]
  }
 ],
 "metadata": {
  "kernelspec": {
   "display_name": "Python 3",
   "language": "python",
   "name": "python3"
  },
  "language_info": {
   "codemirror_mode": {
    "name": "ipython",
    "version": 3
   },
   "file_extension": ".py",
   "mimetype": "text/x-python",
   "name": "python",
   "nbconvert_exporter": "python",
   "pygments_lexer": "ipython3",
   "version": "3.7.1"
  }
 },
 "nbformat": 4,
 "nbformat_minor": 2
}
