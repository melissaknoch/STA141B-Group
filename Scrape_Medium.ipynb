{
 "cells": [
  {
   "cell_type": "code",
   "execution_count": 1,
   "metadata": {},
   "outputs": [],
   "source": [
    "import pandas as pd\n",
    "import numpy as np\n",
    "import requests\n",
    "import requests_cache\n",
    "import time\n",
    "import lxml.html as lx\n",
    "import itertools\n",
    "import matplotlib.pyplot as plt \n",
    "import seaborn as sns\n",
    "\n",
    "%matplotlib inline"
   ]
  },
  {
   "cell_type": "code",
   "execution_count": 2,
   "metadata": {},
   "outputs": [],
   "source": [
    "requests_cache.install_cache(\"medium_cache\")"
   ]
  },
  {
   "cell_type": "code",
   "execution_count": 41,
   "metadata": {},
   "outputs": [],
   "source": [
    "def scrape_front_page_medium(url):    \n",
    "    response = requests.get(url)\n",
    "    response.raise_for_status()\n",
    "    html = lx.fromstring(response.text)\n",
    "    tags = [tag.attrib['href'] for tag in html.xpath(\"//div[contains(@class, 'postArtcle-readMore')]/a\")]\n",
    "    return tags"
   ]
  },
  {
   "cell_type": "code",
   "execution_count": 42,
   "metadata": {},
   "outputs": [
    {
     "data": {
      "text/plain": [
       "[]"
      ]
     },
     "execution_count": 42,
     "metadata": {},
     "output_type": "execute_result"
    }
   ],
   "source": [
    "scrape_front_page_medium(\"https://medium.com/search?q=data%20scientist%20jobs\")"
   ]
  },
  {
   "cell_type": "code",
   "execution_count": 43,
   "metadata": {},
   "outputs": [
    {
     "data": {
      "text/plain": [
       "['https://towardsdatascience.com/5-quick-and-easy-data-visualizations-in-python-with-code-a2284bae952f?source=search_post---------0',\n",
       " 'https://medium.com/@ODSC/13-best-cities-on-the-planet-to-get-hired-as-a-data-scientist-ccea881ee899?source=search_post---------1',\n",
       " 'https://medium.com/pluralsight/featured-channel-data-science-5b48aa6254fd?source=search_post---------2',\n",
       " 'https://medium.com/@Peerlyst/learn-about-the-key-skills-that-are-required-for-a-career-in-data-science-5d4db776cd4e?source=search_post---------3',\n",
       " 'https://medium.com/@hongsupshin/talent-luck-and-success-simulating-meritocracy-and-inequality-with-stochasticity-501e0c1b4969?source=search_post---------4',\n",
       " 'https://towardsdatascience.com/why-so-many-data-scientists-are-leaving-their-jobs-a1f0329d7ea4?source=search_post---------5',\n",
       " 'https://towardsdatascience.com/the-two-sides-of-getting-a-job-as-a-data-scientist-a4571acc58bc?source=search_post---------6',\n",
       " 'https://towardsdatascience.com/things-you-need-to-know-about-becoming-a-data-scientist-2467a3f61457?source=search_post---------7',\n",
       " 'https://medium.com/@innoarchitech/what-is-data-science-and-what-does-a-data-scientist-do-38c23bca3cd7?source=search_post---------8',\n",
       " 'https://medium.com/zolaelectric/data-scientist-93060741df7d?source=search_post---------9']"
      ]
     },
     "execution_count": 43,
     "metadata": {},
     "output_type": "execute_result"
    }
   ],
   "source": [
    "response = requests.get(\"https://medium.com/search?q=data%20scientist%20jobs\")\n",
    "response.raise_for_status()\n",
    "html = lx.fromstring(response.text)\n",
    "tags = [tag.attrib['href'] for tag in html.xpath(\"//div[contains(@class, 'postArticle-readMore')]/a\")]\n",
    "tags"
   ]
  },
  {
   "cell_type": "code",
   "execution_count": 39,
   "metadata": {},
   "outputs": [
    {
     "data": {
      "text/plain": [
       "[]"
      ]
     },
     "execution_count": 39,
     "metadata": {},
     "output_type": "execute_result"
    }
   ],
   "source": []
  },
  {
   "cell_type": "code",
   "execution_count": 22,
   "metadata": {},
   "outputs": [
    {
     "data": {
      "text/plain": [
       "<Element html at 0x106bd2e08>"
      ]
     },
     "execution_count": 22,
     "metadata": {},
     "output_type": "execute_result"
    }
   ],
   "source": [
    "response2 = requests.get(test)\n",
    "response2.raise_for_status()\n",
    "html2 = lx.fromstring(response2.text)\n",
    "html2"
   ]
  },
  {
   "cell_type": "code",
   "execution_count": 25,
   "metadata": {},
   "outputs": [
    {
     "data": {
      "text/plain": [
       "'Ten Machine Learning Algorithms You Should Know to Become a Data Scientist'"
      ]
     },
     "execution_count": 25,
     "metadata": {},
     "output_type": "execute_result"
    }
   ],
   "source": [
    "html2.xpath(\"//h1[contains(@class, 'graf--title')]\")[0].text_content()"
   ]
  },
  {
   "cell_type": "code",
   "execution_count": null,
   "metadata": {},
   "outputs": [],
   "source": []
  }
 ],
 "metadata": {
  "kernelspec": {
   "display_name": "Python 3",
   "language": "python",
   "name": "python3"
  },
  "language_info": {
   "codemirror_mode": {
    "name": "ipython",
    "version": 3
   },
   "file_extension": ".py",
   "mimetype": "text/x-python",
   "name": "python",
   "nbconvert_exporter": "python",
   "pygments_lexer": "ipython3",
   "version": "3.7.1"
  }
 },
 "nbformat": 4,
 "nbformat_minor": 2
}
